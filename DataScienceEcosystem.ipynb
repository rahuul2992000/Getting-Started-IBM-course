{
 "cells": [
  {
   "cell_type": "markdown",
   "id": "87565ac9",
   "metadata": {},
   "source": [
    "# Data Science Tools and Ecosystem"
   ]
  },
  {
   "cell_type": "markdown",
   "id": "91f12151",
   "metadata": {},
   "source": [
    "In this notebook, Data Science Tools and Ecosystem are summarized."
   ]
  },
  {
   "cell_type": "markdown",
   "id": "8cf473fb",
   "metadata": {},
   "source": [
    "**Objectives:**\n",
    "\n",
    "- Some popular languages for Data Science\n",
    "- Some commonly used libraries used by Data Scientists\n",
    "- Examples of evaluating arithmetic expressions in Python\n",
    "- A simple arithmetic expression to mutiply then add integers\n",
    "- Conversion of 200 minutes to hours"
   ]
  },
  {
   "cell_type": "markdown",
   "id": "e79a03b1",
   "metadata": {},
   "source": [
    "Some of the popular languages that Data Scientists use are:\n",
    "1. Python\n",
    "2. R\n",
    "3. SQL\n",
    "4. Java\n",
    "5. JavaScript\n",
    "6. Julia\n",
    "7. C/C++"
   ]
  },
  {
   "cell_type": "markdown",
   "id": "79557930",
   "metadata": {},
   "source": [
    "Some of the commonly used libraries used by Data Scientists include:\n",
    "\n",
    "1. SciPy\n",
    "2. TensorFlow\n",
    "3. Matplotlib\n",
    "4. PyTorch\n",
    "5. NumPy\n",
    "6. Pandas\n",
    "7. Seaborn"
   ]
  },
  {
   "cell_type": "markdown",
   "id": "7e29278c",
   "metadata": {},
   "source": [
    "| Data Science Tools | \n",
    "| -------------| \n",
    "| Jupyter Notebook | \n",
    "| RStudio | \n",
    "| Spyder | "
   ]
  },
  {
   "cell_type": "markdown",
   "id": "4a4c4088",
   "metadata": {},
   "source": [
    "### Below are a few examples of evaluating arithmetic expressions in Python"
   ]
  },
  {
   "cell_type": "code",
   "execution_count": 3,
   "id": "80c15813",
   "metadata": {},
   "outputs": [
    {
     "data": {
      "text/plain": [
       "32"
      ]
     },
     "execution_count": 3,
     "metadata": {},
     "output_type": "execute_result"
    }
   ],
   "source": [
    "(2+2)*4*2"
   ]
  },
  {
   "cell_type": "code",
   "execution_count": 5,
   "id": "9bdc4d77",
   "metadata": {},
   "outputs": [
    {
     "data": {
      "text/plain": [
       "2.0"
      ]
     },
     "execution_count": 5,
     "metadata": {},
     "output_type": "execute_result"
    }
   ],
   "source": [
    "8/4"
   ]
  },
  {
   "cell_type": "code",
   "execution_count": 6,
   "id": "0766ddd1",
   "metadata": {},
   "outputs": [
    {
     "data": {
      "text/plain": [
       "10.0"
      ]
     },
     "execution_count": 6,
     "metadata": {},
     "output_type": "execute_result"
    }
   ],
   "source": [
    "2.5*4"
   ]
  },
  {
   "cell_type": "code",
   "execution_count": 7,
   "id": "85ef87dc",
   "metadata": {},
   "outputs": [
    {
     "data": {
      "text/plain": [
       "17"
      ]
     },
     "execution_count": 7,
     "metadata": {},
     "output_type": "execute_result"
    }
   ],
   "source": [
    "#This a simple arithmetic expression to mutiply then add integers\n",
    "\n",
    "(3*4)+5"
   ]
  },
  {
   "cell_type": "code",
   "execution_count": 8,
   "id": "a7997b87",
   "metadata": {},
   "outputs": [
    {
     "data": {
      "text/plain": [
       "3.3333333333333335"
      ]
     },
     "execution_count": 8,
     "metadata": {},
     "output_type": "execute_result"
    }
   ],
   "source": [
    "#This will convert 200 minutes to hours by diving by 60\n",
    "\n",
    "minute=200\n",
    "hr=minute/60\n",
    "hr"
   ]
  },
  {
   "cell_type": "markdown",
   "id": "b93064a3",
   "metadata": {},
   "source": [
    "### Author\n",
    "\n",
    "Rahuul Rangaraj"
   ]
  }
 ],
 "metadata": {
  "kernelspec": {
   "display_name": "Python 3 (ipykernel)",
   "language": "python",
   "name": "python3"
  },
  "language_info": {
   "codemirror_mode": {
    "name": "ipython",
    "version": 3
   },
   "file_extension": ".py",
   "mimetype": "text/x-python",
   "name": "python",
   "nbconvert_exporter": "python",
   "pygments_lexer": "ipython3",
   "version": "3.9.12"
  }
 },
 "nbformat": 4,
 "nbformat_minor": 5
}
